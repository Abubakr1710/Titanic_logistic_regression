{
 "cells": [
  {
   "cell_type": "markdown",
   "metadata": {},
   "source": [
    "## Why Logistic regression is important and what problems it does solve?"
   ]
  },
  {
   "cell_type": "markdown",
   "metadata": {},
   "source": [
    "In linear regression, we are predicting the continuous values but what if we want to predict categorical values like True or False , right or wrong, Yes or no so in that case our linear regression model doesn’t work, so for solving this type of problem we have to use logistic regression. In logistic regression, we are playing with the probability(Chances of our output variable).\n",
    "Logistic regression is a supervised learning classification algorithm used to predict the probability of the target variable. By logistic we are trying to solve the binary classification(True or false )and Multiclass classification(Class 1, class2, class3 and so on)"
   ]
  },
  {
   "cell_type": "markdown",
   "metadata": {},
   "source": [
    "## What are the advantages and the limitations of the algorithm?"
   ]
  },
  {
   "cell_type": "markdown",
   "metadata": {},
   "source": [
    "### Advantages of LOgistic Regression\n",
    "Logistic regression is easier to implement, interpret, and very efficient to train.\n",
    "\n",
    "It makes no assumptions about distributions of classes in feature space.\n",
    "\n",
    "It can easily extend to multiple classes(multinomial regression) and a natural probabilistic view of class predictions.\n",
    "\n",
    "It not only provides a measure of how appropriate a predictor(coefficient size)is, but also its direction of association (positive or negative)\n",
    "\n",
    "It is very fast at classifying unknown records.\n",
    "\n",
    "Good accuracy for many simple data sets and it performs well when the dataset is linearly separable.\n",
    "\n",
    "It can interpret model coefficients as indicators of feature importance.\n",
    "\n",
    "Logistic regression is less inclined to over-fitting but it can overfit in high dimensional datasets.One may consider Regularization (L1 and L2) techniques to avoid over-fittingin these scenarios."
   ]
  },
  {
   "cell_type": "markdown",
   "metadata": {},
   "source": [
    "### Disadvantages of Logistic Regression\n",
    "If the number of observations is lesser than the number of features, Logistic Regression should not be used, otherwise, it may lead to overfitting.\n",
    "\n",
    "It constructs linear boundaries.\n",
    "\n",
    "The major limitation of Logistic Regression is the assumption of linearity between the dependent variable and the independent variables.\n",
    "\n",
    "It can only be used to predict discrete functions. Hence, the dependent variable of Logistic Regression is bound to the discrete number set.\n",
    "\n",
    "Non-linear problems can’t be solved with logistic regression because it has a linear decision surface. Linearly separable data is rarely found in real-world scenarios.\n",
    "\n",
    "Logistic Regression requires average or no multicollinearity between independent variables."
   ]
  },
  {
   "cell_type": "markdown",
   "metadata": {},
   "source": [
    "###  What are the tasks you would use it for"
   ]
  },
  {
   "cell_type": "markdown",
   "metadata": {},
   "source": [
    "Spam versus Non-spam emails\n",
    "\n",
    "Loan default(yes,no)\n",
    "\n",
    "Disease Diagnosis"
   ]
  }
 ],
 "metadata": {
  "language_info": {
   "name": "python"
  },
  "orig_nbformat": 4
 },
 "nbformat": 4,
 "nbformat_minor": 2
}
