{
 "cells": [
  {
   "cell_type": "markdown",
   "metadata": {},
   "source": [
    "## Why Logistic regression is important and what problems it does solve?"
   ]
  },
  {
   "cell_type": "markdown",
   "metadata": {},
   "source": [
    "In linear regression, we are predicting the continuous values but what if we want to predict categorical values like True or False , right or wrong, Yes or no so in that case our linear regression model doesn’t work, so for solving this type of problem we have to use logistic regression. In logistic regression, we are playing with the probability(Chances of our output variable).\n",
    "Logistic regression is a supervised learning classification algorithm used to predict the probability of the target variable. By logistic we are trying to solve the binary classification(True or false )and Multiclass classification(Class 1, class2, class3 and so on)"
   ]
  },
  {
   "cell_type": "markdown",
   "metadata": {},
   "source": [
    "## what are the advantages and the limitations of the algorithm?"
   ]
  },
  {
   "cell_type": "markdown",
   "metadata": {},
   "source": []
  }
 ],
 "metadata": {
  "language_info": {
   "name": "python"
  },
  "orig_nbformat": 4
 },
 "nbformat": 4,
 "nbformat_minor": 2
}
